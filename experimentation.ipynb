{
 "cells": [
  {
   "cell_type": "code",
   "execution_count": null,
   "metadata": {
    "executionInfo": {
     "elapsed": 11608,
     "status": "ok",
     "timestamp": 1649432029797,
     "user": {
      "displayName": "Srujan Ponnur",
      "userId": "02474709558035144779"
     },
     "user_tz": 240
    },
    "id": "mb9LogEwb5bS"
   },
   "outputs": [],
   "source": [
    "import pandas as pd\n",
    "df = pd.read_csv('Train_updated.csv')"
   ]
  },
  {
   "cell_type": "code",
   "execution_count": null,
   "metadata": {
    "colab": {
     "base_uri": "https://localhost:8080/"
    },
    "executionInfo": {
     "elapsed": 230,
     "status": "ok",
     "timestamp": 1649400164056,
     "user": {
      "displayName": "Srujan Ponnur",
      "userId": "02474709558035144779"
     },
     "user_tz": 240
    },
    "id": "BCUbvqhbc8zn",
    "outputId": "1219bc4e-abcb-4aaa-b25b-9ffa7a945bec"
   },
   "outputs": [],
   "source": [
    "df.shape"
   ]
  },
  {
   "cell_type": "markdown",
   "metadata": {
    "id": "BmRFYQlkwACe"
   },
   "source": [
    "Near Miss Undersampling"
   ]
  },
  {
   "cell_type": "code",
   "execution_count": null,
   "metadata": {
    "executionInfo": {
     "elapsed": 1299,
     "status": "ok",
     "timestamp": 1649432047405,
     "user": {
      "displayName": "Srujan Ponnur",
      "userId": "02474709558035144779"
     },
     "user_tz": 240
    },
    "id": "SgPLBbQewEbF"
   },
   "outputs": [],
   "source": [
    "from imblearn.under_sampling import NearMiss, ClusterCentroids, RandomUnderSampler"
   ]
  },
  {
   "cell_type": "code",
   "execution_count": null,
   "metadata": {
    "id": "_qc_KA4S9uzZ"
   },
   "outputs": [],
   "source": [
    "undersample = NearMiss(version=1, n_neighbors=3)\n",
    "X_nm,Y_nm = undersample.fit_resample(X_ohe,Y)"
   ]
  },
  {
   "cell_type": "code",
   "execution_count": null,
   "metadata": {
    "colab": {
     "base_uri": "https://localhost:8080/",
     "height": 170
    },
    "executionInfo": {
     "elapsed": 250,
     "status": "error",
     "timestamp": 1649428434667,
     "user": {
      "displayName": "Srujan Ponnur",
      "userId": "02474709558035144779"
     },
     "user_tz": 240
    },
    "id": "GmHOapuVmHsI",
    "outputId": "99a055cc-9605-4dd1-c055-0e3b4954df7d"
   },
   "outputs": [],
   "source": [
    "X_nm.shape"
   ]
  },
  {
   "cell_type": "markdown",
   "metadata": {
    "id": "6vNrJAY7Qh5N"
   },
   "source": [
    "Cluster Centriods"
   ]
  },
  {
   "cell_type": "code",
   "execution_count": null,
   "metadata": {
    "id": "MfUMN9c104ri"
   },
   "outputs": [],
   "source": [
    "cc = ClusterCentroids(random_state = 0)\n",
    "X_cc,Y_cc = cc.fit_resample(X, Y)"
   ]
  },
  {
   "cell_type": "code",
   "execution_count": null,
   "metadata": {
    "colab": {
     "base_uri": "https://localhost:8080/"
    },
    "executionInfo": {
     "elapsed": 320,
     "status": "ok",
     "timestamp": 1649389561390,
     "user": {
      "displayName": "Srujan Ponnur",
      "userId": "02474709558035144779"
     },
     "user_tz": 240
    },
    "id": "Q5ZKyCCw1WuR",
    "outputId": "0024db51-b404-42c8-c34a-7dbe9c38210d"
   },
   "outputs": [],
   "source": [
    "# X = X.drop(['Ob','Station', 'measure'],axis=1)\n",
    "print(new_X.shape)\n",
    "print(new_Y.shape)"
   ]
  },
  {
   "cell_type": "code",
   "execution_count": null,
   "metadata": {
    "colab": {
     "base_uri": "https://localhost:8080/"
    },
    "executionInfo": {
     "elapsed": 150,
     "status": "ok",
     "timestamp": 1649388658626,
     "user": {
      "displayName": "Srujan Ponnur",
      "userId": "02474709558035144779"
     },
     "user_tz": 240
    },
    "id": "3H4jmzIYOLrp",
    "outputId": "cb17667f-4c95-46d1-dda7-d1f9f2186e8a"
   },
   "outputs": [],
   "source": [
    "print(new_y_1.value_counts())"
   ]
  },
  {
   "cell_type": "code",
   "execution_count": null,
   "metadata": {
    "colab": {
     "base_uri": "https://localhost:8080/"
    },
    "executionInfo": {
     "elapsed": 1730,
     "status": "ok",
     "timestamp": 1649384553434,
     "user": {
      "displayName": "Srujan Ponnur",
      "userId": "02474709558035144779"
     },
     "user_tz": 240
    },
    "id": "txpY9JxD7mT3",
    "outputId": "37cfe75d-e856-4530-b5f0-0c92fb39f3db"
   },
   "outputs": [],
   "source": [
    "print(X['Station'].value_counts().size)\n",
    "print(X['measure'].value_counts().size)"
   ]
  },
  {
   "cell_type": "markdown",
   "metadata": {
    "id": "rC1YWiPUa25I"
   },
   "source": [
    "Combining Oversampling and Undersampling"
   ]
  },
  {
   "cell_type": "code",
   "execution_count": null,
   "metadata": {
    "id": "lOSLmtSu7oVX"
   },
   "outputs": [],
   "source": [
    "from imblearn.combine import SMOTEENN, SMOTETomek\n",
    "smote_enn = SMOTEENN(random_state = 0)\n",
    "X_smotten, Y_smotten = smote_enn.fit_resample(X_ohe,Y)"
   ]
  },
  {
   "cell_type": "code",
   "execution_count": null,
   "metadata": {
    "colab": {
     "base_uri": "https://localhost:8080/"
    },
    "executionInfo": {
     "elapsed": 151,
     "status": "ok",
     "timestamp": 1649391869205,
     "user": {
      "displayName": "Srujan Ponnur",
      "userId": "02474709558035144779"
     },
     "user_tz": 240
    },
    "id": "RKP7ztnQRzut",
    "outputId": "c19187c9-2c60-4f38-aaa2-88e69916e2d0"
   },
   "outputs": [],
   "source": [
    "X_smotten.shape\n",
    "Y_smotten.shape"
   ]
  }
 ],
 "metadata": {
  "colab": {
   "authorship_tag": "ABX9TyNJ/NyY8A+1GWrYaV9tmWd9",
   "collapsed_sections": [],
   "name": "under_sampling.ipynb",
   "provenance": []
  },
  "kernelspec": {
   "display_name": "Python 3 (ipykernel)",
   "language": "python",
   "name": "python3"
  },
  "language_info": {
   "codemirror_mode": {
    "name": "ipython",
    "version": 3
   },
   "file_extension": ".py",
   "mimetype": "text/x-python",
   "name": "python",
   "nbconvert_exporter": "python",
   "pygments_lexer": "ipython3",
   "version": "3.9.7"
  }
 },
 "nbformat": 4,
 "nbformat_minor": 1
}
