{
 "cells": [
  {
   "cell_type": "code",
   "execution_count": null,
   "id": "0f34e747",
   "metadata": {},
   "outputs": [],
   "source": [
    "import pandas as pd\n",
    "import datetime\n",
    "from sklearn.preprocessing import OneHotEncoder\n",
    "from sklearn.preprocessing import StandardScaler\n",
    "from tqdm import tqdm"
   ]
  },
  {
   "cell_type": "code",
   "execution_count": null,
   "id": "7832d074",
   "metadata": {},
   "outputs": [],
   "source": [
    "print(\"Reading dataframe from train file\")"
   ]
  },
  {
   "cell_type": "code",
   "execution_count": null,
   "id": "99884547",
   "metadata": {},
   "outputs": [],
   "source": [
    "df =  pd.read_csv('train.csv')"
   ]
  },
  {
   "cell_type": "code",
   "execution_count": null,
   "id": "ff62f878",
   "metadata": {},
   "outputs": [],
   "source": [
    "print(\"Read into dataframe from train file\")"
   ]
  },
  {
   "cell_type": "code",
   "execution_count": null,
   "id": "730b0566",
   "metadata": {},
   "outputs": [],
   "source": [
    "def convert(date_time):\n",
    "    format1 = '%m/%d/%Y %H:%M'\n",
    "    dat = pd.to_datetime(date_time, format=format1).dt\n",
    "    return dat.month, dat.day, dat.hour, dat.minute\n",
    "   "
   ]
  },
  {
   "cell_type": "code",
   "execution_count": null,
   "id": "f4792338",
   "metadata": {},
   "outputs": [],
   "source": [
    "df['month'], df['day'], df['hour'], df['minute'] = convert(df['Ob'])"
   ]
  },
  {
   "cell_type": "code",
   "execution_count": null,
   "id": "770749a6",
   "metadata": {},
   "outputs": [],
   "source": [
    "print(\"Date column Converted\")"
   ]
  },
  {
   "cell_type": "code",
   "execution_count": null,
   "id": "d7c636e1",
   "metadata": {},
   "outputs": [],
   "source": [
    "qc0 = {\"R0\",\"R0Z0\",\"R0I0\",\"R0I0Z0\",\"R0B0\",\"R0B0Z0\",\"R0B1Z0\",\"R1Z0\",\"R1I0\",\"R1B0\",\"R1B0Z0\",\"R1B1Z0\",\"R2B0Z0\",\"Z0\",\"Z2\",\"I0\",\"B0\",\"B0Z0\",\"B0Z2\",\"B1Z0\"}\n",
    "qc1 = {\"R0Z2\",\"R0I1\",\"R0I0Z0\",\"R0B1\",\"R0B2Z0\",\"R0B3Z0\",\"R1\",\"R1B0Z4\",\"R1I2\",\"R1B1\",\"R1B2Z0\",\"R2Z0\",\"R2B0\",\"R2B0Z2\",\"R2B1Z0\",\"R2B2Z0\",\"R3B0Z0\",\"R3B1Z0\",\"I1\",\"B0Z4\",\"B1\",\"B1Z2\",\"B2Z0\"}\n",
    "qc2 = {\"R0I2\",\"R0I2Z0\",\"R0I4\",\"R0I4Z0\",\"R0B0Z4\",\"R0B1Z4\",\"R0B2\",\"R0B2Z4\",\"R0B3\",\"R0B3Z2\",\"R1Z4\",\"R1I4\",\"R1B1Z4\",\"R1B2\",\"R1B2Z4\",\"R1B3Z0\",\"R2\",\"R2Z2\",\"R2Z4\",\"R2B0Z4\",\"R2B1Z2\",\"R2B1Z4\",\"R2B1\",\"R2B2\",\"R2B2Z2\",\"R2B3Z0\",\"R3\",\"R3Z0\",\"R3Z2\",\"R3\",\"R3I0\",\"R3B0\",\"R3B0Z2\",\"R3B1\",\"R3B1Z2\",\"Z4\",\"I2\",\"B1Z4\",\"B2\",\"B2Z2\",\"B2Z4\",\"B3\",\"B3Z0\",\"B3Z2\",\"B4\",\"B4Z0\",\"B4Z2\"}\n",
    "qc3 = {\"R0Z4\",\"R0I1Z4\",\"R0I2Z4\",\"R0I4Z4\",\"R0B3Z4\",\"R0B4Z0\",\"R0B4Z2\",\"R0B4Z4\",\"R0B5Z0\",\"R0B5Z2\",\"R0B5Z4\",\"R1B3\",\"R1B3Z4\",\"R1B4Z0\",\"R1B4Z2\",\"R1B4Z4\",\"R1B5Z0\",\"R1B5Z2\",\"R1B5Z4\",\"R2B2Z4\",\"R2B3\",\"R2B3Z2\",\"R2B3Z4\",\"R2B4Z0\",\"R2B4Z2\",\"R2B4Z4\",\"R2B5Z0\",\"R2B5Z2\",\"R2B5Z4\",\"R3Z4\",\"R3I4\",\"R3B0Z4\",\"R3B1Z4\",\"R3B2\",\"R3B2Z0\",\"R3B2Z2\",\"R3B2Z4\",\"R3B3\",\"R3B3Z0\",\"R3B3Z2\",\"R3B3Z4\",\"R3B4\",\"R3B4Z0\",\"R3B4Z2\",\"R3B4Z4\",\"R3B5\",\"R3B5Z0\",\"R3B5Z2\",\"R3B5Z4\",\"I4\",\"B3Z4\",\"B4Z4\",\"B5\",\"B5Z0\",\"B5Z2\",\"B5Z4\"}"
   ]
  },
  {
   "cell_type": "code",
   "execution_count": null,
   "id": "501c6993",
   "metadata": {},
   "outputs": [],
   "source": [
    "df['qc_score'] = [-1]*(df.shape[0])"
   ]
  },
  {
   "cell_type": "code",
   "execution_count": null,
   "id": "bb6d4172",
   "metadata": {},
   "outputs": [],
   "source": [
    "def qc_score_flag(df_conv):\n",
    "    for i in tqdm(range(df_conv.shape[0])):\n",
    "        qc_flag = \"\"\n",
    "        if(df['R_flag'][i] != -1):\n",
    "            qc_flag += 'R'+str(df_conv['R_flag'][i])\n",
    "        if(df['B_flag'][i] != -1):\n",
    "            qc_flag += 'B'+str(df_conv['B_flag'][i])\n",
    "        if(df['I_flag'][i] != -1):\n",
    "            qc_flag += 'I'+str(df_conv['I_flag'][i])\n",
    "        if(df['Z_flag'][i] != -1):\n",
    "            qc_flag += 'Z'+str(df_conv['Z_flag'][i])\n",
    "\n",
    "        qc_score = -1\n",
    "        if(qc_flag.startswith(\"R4\")):\n",
    "            qc_score=3\n",
    "        elif(qc_flag in qc0):\n",
    "            qc_score = 0\n",
    "        elif(qc_flag in qc1):\n",
    "            qc_score = 1\n",
    "        elif(qc_flag in qc2):\n",
    "            qc_score = 2\n",
    "        elif(qc_flag in qc3):\n",
    "            qc_score = 3\n",
    "            \n",
    "        df_conv['qc_score'][i] = qc_score\n",
    "    return df_conv"
   ]
  },
  {
   "cell_type": "code",
   "execution_count": null,
   "id": "3c261ffb",
   "metadata": {},
   "outputs": [],
   "source": [
    "df = qc_score_flag(df)"
   ]
  },
  {
   "cell_type": "code",
   "execution_count": null,
   "id": "4ff49289",
   "metadata": {},
   "outputs": [],
   "source": [
    "df.groupby(['qc_score','target']).size()"
   ]
  },
  {
   "cell_type": "code",
   "execution_count": null,
   "id": "a4b84ae8",
   "metadata": {},
   "outputs": [],
   "source": [
    "scalar_map = {}\n",
    "for i,j in df.groupby('measure')['value']:\n",
    "    scaler = StandardScaler()\n",
    "    scaler.fit(j.values.reshape(-1,1))\n",
    "    scalar_map[i] = {}\n",
    "    scalar_map[i][\"mean\"] = scaler.mean_[0]\n",
    "    scalar_map[i][\"std\"] = scaler.scale_[0]"
   ]
  },
  {
   "cell_type": "code",
   "execution_count": null,
   "id": "29160543",
   "metadata": {},
   "outputs": [],
   "source": []
  },
  {
   "cell_type": "code",
   "execution_count": null,
   "id": "25ba672f",
   "metadata": {},
   "outputs": [],
   "source": [
    "print(scalar_map)"
   ]
  },
  {
   "cell_type": "code",
   "execution_count": null,
   "id": "460b2cb6",
   "metadata": {},
   "outputs": [],
   "source": [
    "df['value'] = df.groupby('measure')['value'].apply(lambda x : ((((x - scalar_map[x.name].get(\"mean\")) / scalar_map[x.name].get(\"std\")) if x.name in scalar_map else x)))"
   ]
  },
  {
   "cell_type": "code",
   "execution_count": null,
   "id": "44a3db59",
   "metadata": {},
   "outputs": [],
   "source": [
    "enc = OneHotEncoder(handle_unknown='ignore')\n",
    "enc.fit(df[['measure', 'Station']])\n",
    "transformed_data = enc.transform(df[['measure', 'Station']])\n",
    "df_cat = pd.DataFrame.sparse.from_spmatrix(transformed_data, index=df.index,columns=enc.get_feature_names_out())"
   ]
  },
  {
   "cell_type": "code",
   "execution_count": null,
   "id": "f6e8bb33",
   "metadata": {},
   "outputs": [],
   "source": [
    "df = df.drop(columns=['measure','Station'])"
   ]
  },
  {
   "cell_type": "code",
   "execution_count": null,
   "id": "7d8e9a12",
   "metadata": {},
   "outputs": [],
   "source": [
    "df = pd.concat([df, df_cat], axis=1)"
   ]
  },
  {
   "cell_type": "code",
   "execution_count": null,
   "id": "9629eed3",
   "metadata": {},
   "outputs": [],
   "source": [
    "df = df.drop(columns=['Ob'])"
   ]
  },
  {
   "cell_type": "code",
   "execution_count": null,
   "id": "eb430f33",
   "metadata": {},
   "outputs": [],
   "source": [
    "print(\"DF Shape after One hot encoding and Normalisation : \", df.shape)"
   ]
  },
  {
   "cell_type": "code",
   "execution_count": null,
   "id": "b3d7927a",
   "metadata": {},
   "outputs": [],
   "source": [
    "df.to_csv(\"Train_updated.csv\", index=False)"
   ]
  },
  {
   "cell_type": "code",
   "execution_count": null,
   "id": "95ec3ada",
   "metadata": {},
   "outputs": [],
   "source": [
    "df_test =  pd.read_csv('test.csv')"
   ]
  },
  {
   "cell_type": "code",
   "execution_count": null,
   "id": "0240646f",
   "metadata": {},
   "outputs": [],
   "source": [
    "transformed_test = enc.transform(df_test[['measure', 'Station']])"
   ]
  },
  {
   "cell_type": "code",
   "execution_count": null,
   "id": "cc6f9e76",
   "metadata": {},
   "outputs": [],
   "source": [
    "df_test['value'] = df_test.groupby('measure')['value'].apply(lambda x : ((((x - scalar_map[x.name].get(\"mean\")) / scalar_map[x.name].get(\"std\")) if x.name in scalar_map else x)))"
   ]
  },
  {
   "cell_type": "code",
   "execution_count": null,
   "id": "8232ba4e",
   "metadata": {},
   "outputs": [],
   "source": [
    "df_test['month'], df_test['day'], df_test['hour'], df_test['minute'] = convert(df_test['Ob'])"
   ]
  },
  {
   "cell_type": "code",
   "execution_count": null,
   "id": "50f8d691",
   "metadata": {},
   "outputs": [],
   "source": [
    "df_test['qc_score'] = [-1]*(df_test.shape[0])"
   ]
  },
  {
   "cell_type": "code",
   "execution_count": null,
   "id": "f63d2d08",
   "metadata": {},
   "outputs": [],
   "source": [
    "df_test = qc_score_flag(df_test)"
   ]
  },
  {
   "cell_type": "code",
   "execution_count": null,
   "id": "19fe89c5",
   "metadata": {},
   "outputs": [],
   "source": [
    "df_test.groupby(['qc_score']).size()"
   ]
  },
  {
   "cell_type": "code",
   "execution_count": null,
   "id": "e060cb96",
   "metadata": {},
   "outputs": [],
   "source": [
    "df_test.columns"
   ]
  },
  {
   "cell_type": "code",
   "execution_count": null,
   "id": "0f7db831",
   "metadata": {},
   "outputs": [],
   "source": [
    "df_test = df_test.drop(columns=['Ob','measure','Station'], axis=1)"
   ]
  },
  {
   "cell_type": "code",
   "execution_count": null,
   "id": "13a929fe",
   "metadata": {},
   "outputs": [],
   "source": [
    "df_test_cat = pd.DataFrame.sparse.from_spmatrix(transformed_test, index=df_test.index,columns=enc.get_feature_names())"
   ]
  },
  {
   "cell_type": "code",
   "execution_count": null,
   "id": "75590fd0",
   "metadata": {},
   "outputs": [],
   "source": [
    "X_test = df_test = pd.concat([df_test, df_test_cat], axis=1)"
   ]
  },
  {
   "cell_type": "code",
   "execution_count": null,
   "id": "edde074d",
   "metadata": {},
   "outputs": [],
   "source": [
    "print(\"DF Shape before writing into CSV for test : \", df_test.shape)"
   ]
  },
  {
   "cell_type": "code",
   "execution_count": null,
   "id": "c5b4768e",
   "metadata": {},
   "outputs": [],
   "source": [
    "X_test.to_csv(\"Test_updated.csv\", index=False)"
   ]
  }
 ],
 "metadata": {
  "kernelspec": {
   "display_name": "Python 3 (ipykernel)",
   "language": "python",
   "name": "python3"
  },
  "language_info": {
   "codemirror_mode": {
    "name": "ipython",
    "version": 3
   },
   "file_extension": ".py",
   "mimetype": "text/x-python",
   "name": "python",
   "nbconvert_exporter": "python",
   "pygments_lexer": "ipython3",
   "version": "3.9.7"
  }
 },
 "nbformat": 4,
 "nbformat_minor": 5
}
